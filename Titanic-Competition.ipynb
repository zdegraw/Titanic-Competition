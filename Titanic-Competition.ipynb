{
 "cells": [
  {
   "cell_type": "code",
   "execution_count": 111,
   "id": "528cb3b7",
   "metadata": {
    "scrolled": true
   },
   "outputs": [],
   "source": [
    "import pandas as pd\n",
    "import numpy as np\n",
    "from sklearn.preprocessing import LabelEncoder\n",
    "from sklearn.feature_selection import SelectKBest, f_regression\n",
    "import matplotlib.pyplot as plt\n",
    "from sklearn.model_selection import train_test_split\n",
    "from sklearn.ensemble import RandomForestClassifier\n",
    "from sklearn.neighbors import KNeighborsClassifier, KNeighborsRegressor\n",
    "import tensorflow as tf\n",
    "from tensorflow.keras.models import Sequential\n",
    "from tensorflow.keras.layers import Dense\n",
    "from sklearn.preprocessing import StandardScaler"
   ]
  },
  {
   "cell_type": "code",
   "execution_count": 112,
   "id": "e64f12d6",
   "metadata": {},
   "outputs": [
    {
     "data": {
      "text/html": [
       "<div>\n",
       "<style scoped>\n",
       "    .dataframe tbody tr th:only-of-type {\n",
       "        vertical-align: middle;\n",
       "    }\n",
       "\n",
       "    .dataframe tbody tr th {\n",
       "        vertical-align: top;\n",
       "    }\n",
       "\n",
       "    .dataframe thead th {\n",
       "        text-align: right;\n",
       "    }\n",
       "</style>\n",
       "<table border=\"1\" class=\"dataframe\">\n",
       "  <thead>\n",
       "    <tr style=\"text-align: right;\">\n",
       "      <th></th>\n",
       "      <th>PassengerId</th>\n",
       "      <th>Survived</th>\n",
       "      <th>Pclass</th>\n",
       "      <th>Name</th>\n",
       "      <th>Sex</th>\n",
       "      <th>Age</th>\n",
       "      <th>SibSp</th>\n",
       "      <th>Parch</th>\n",
       "      <th>Ticket</th>\n",
       "      <th>Fare</th>\n",
       "      <th>Cabin</th>\n",
       "      <th>Embarked</th>\n",
       "    </tr>\n",
       "  </thead>\n",
       "  <tbody>\n",
       "    <tr>\n",
       "      <th>0</th>\n",
       "      <td>1</td>\n",
       "      <td>0</td>\n",
       "      <td>3</td>\n",
       "      <td>108</td>\n",
       "      <td>1</td>\n",
       "      <td>22.0</td>\n",
       "      <td>1</td>\n",
       "      <td>0</td>\n",
       "      <td>523</td>\n",
       "      <td>7.2500</td>\n",
       "      <td>147</td>\n",
       "      <td>2</td>\n",
       "    </tr>\n",
       "    <tr>\n",
       "      <th>1</th>\n",
       "      <td>2</td>\n",
       "      <td>1</td>\n",
       "      <td>1</td>\n",
       "      <td>190</td>\n",
       "      <td>0</td>\n",
       "      <td>38.0</td>\n",
       "      <td>1</td>\n",
       "      <td>0</td>\n",
       "      <td>596</td>\n",
       "      <td>71.2833</td>\n",
       "      <td>81</td>\n",
       "      <td>0</td>\n",
       "    </tr>\n",
       "    <tr>\n",
       "      <th>2</th>\n",
       "      <td>3</td>\n",
       "      <td>1</td>\n",
       "      <td>3</td>\n",
       "      <td>353</td>\n",
       "      <td>0</td>\n",
       "      <td>26.0</td>\n",
       "      <td>0</td>\n",
       "      <td>0</td>\n",
       "      <td>669</td>\n",
       "      <td>7.9250</td>\n",
       "      <td>147</td>\n",
       "      <td>2</td>\n",
       "    </tr>\n",
       "    <tr>\n",
       "      <th>3</th>\n",
       "      <td>4</td>\n",
       "      <td>1</td>\n",
       "      <td>1</td>\n",
       "      <td>272</td>\n",
       "      <td>0</td>\n",
       "      <td>35.0</td>\n",
       "      <td>1</td>\n",
       "      <td>0</td>\n",
       "      <td>49</td>\n",
       "      <td>53.1000</td>\n",
       "      <td>55</td>\n",
       "      <td>2</td>\n",
       "    </tr>\n",
       "    <tr>\n",
       "      <th>4</th>\n",
       "      <td>5</td>\n",
       "      <td>0</td>\n",
       "      <td>3</td>\n",
       "      <td>15</td>\n",
       "      <td>1</td>\n",
       "      <td>35.0</td>\n",
       "      <td>0</td>\n",
       "      <td>0</td>\n",
       "      <td>472</td>\n",
       "      <td>8.0500</td>\n",
       "      <td>147</td>\n",
       "      <td>2</td>\n",
       "    </tr>\n",
       "  </tbody>\n",
       "</table>\n",
       "</div>"
      ],
      "text/plain": [
       "   PassengerId  Survived  Pclass  Name  Sex   Age  SibSp  Parch  Ticket  \\\n",
       "0            1         0       3   108    1  22.0      1      0     523   \n",
       "1            2         1       1   190    0  38.0      1      0     596   \n",
       "2            3         1       3   353    0  26.0      0      0     669   \n",
       "3            4         1       1   272    0  35.0      1      0      49   \n",
       "4            5         0       3    15    1  35.0      0      0     472   \n",
       "\n",
       "      Fare  Cabin  Embarked  \n",
       "0   7.2500    147         2  \n",
       "1  71.2833     81         0  \n",
       "2   7.9250    147         2  \n",
       "3  53.1000     55         2  \n",
       "4   8.0500    147         2  "
      ]
     },
     "execution_count": 112,
     "metadata": {},
     "output_type": "execute_result"
    }
   ],
   "source": [
    "#clean and analyze data\n",
    "df = pd.read_csv('train.csv')\n",
    "label_encoder = LabelEncoder()\n",
    "\n",
    "columns_to_label_encode = ['Sex', 'Cabin', 'Embarked', 'Ticket', 'Name'] \n",
    "\n",
    "for column in columns_to_label_encode:\n",
    "    if column in df.columns:\n",
    "        df[column] = label_encoder.fit_transform(df[column])\n",
    "\n",
    "average_age = df['Age'].mean()\n",
    "df['Age'] = df['Age'].fillna(average_age)\n",
    "df.head()"
   ]
  },
  {
   "cell_type": "code",
   "execution_count": 113,
   "id": "eed8159c",
   "metadata": {},
   "outputs": [
    {
     "data": {
      "text/plain": [
       "([0, 1, 2, 3, 4, 5, 6, 7, 8],\n",
       " [Text(0, 0, ''),\n",
       "  Text(0, 0, ''),\n",
       "  Text(0, 0, ''),\n",
       "  Text(0, 0, ''),\n",
       "  Text(0, 0, ''),\n",
       "  Text(0, 0, ''),\n",
       "  Text(0, 0, ''),\n",
       "  Text(0, 0, ''),\n",
       "  Text(0, 0, '')])"
      ]
     },
     "execution_count": 113,
     "metadata": {},
     "output_type": "execute_result"
    },
    {
     "data": {
      "image/png": "[encoded data removed]",
      "text/plain": [
       "<Figure size 432x288 with 1 Axes>"
      ]
     },
     "metadata": {
      "needs_background": "light"
     },
     "output_type": "display_data"
    }
   ],
   "source": [
    "X = df.drop(['Survived', 'PassengerId', 'Name'], axis=1)\n",
    "y = df['Survived']\n",
    "\n",
    "bestfeatures = SelectKBest(score_func=f_regression, k='all')\n",
    "fit = bestfeatures.fit(X,y)\n",
    "plt.bar(x=X.columns,height=fit.scores_)\n",
    "plt.ylabel('score')\n",
    "plt.xticks(rotation=35, ha='right')"
   ]
  },
  {
   "cell_type": "code",
   "execution_count": 114,
   "id": "13df25ce",
   "metadata": {},
   "outputs": [
    {
     "name": "stdout",
     "output_type": "stream",
     "text": [
      "Accuracy depth  7 : 0.8435754189944135\n",
      "Test set accuracy: 0.8435754189944135\n"
     ]
    }
   ],
   "source": [
    "#Random Forest\n",
    "X_train, X_test, y_train, y_test = train_test_split(X, y, test_size=0.2)\n",
    "\n",
    "depths = [7]\n",
    "\n",
    "for depth in depths:\n",
    "    rfc = RandomForestClassifier(max_depth=depth)\n",
    "    rfc.fit(X_train, y_train)\n",
    "\n",
    "    accuracy = rfc.score(X_test, y_test)\n",
    "    train_accuracy = rfc.score(X_train, y_train)\n",
    "    print(\"Accuracy depth \", depth, \":\", accuracy)\n",
    "    print(f\"Test set accuracy: {accuracy}\")\n",
    "    \n"
   ]
  },
  {
   "cell_type": "code",
   "execution_count": 115,
   "id": "689c7955",
   "metadata": {},
   "outputs": [
    {
     "name": "stdout",
     "output_type": "stream",
     "text": [
      "Training set accuracy: 0.7881219903691814\n",
      "Test set accuracy: 0.7014925373134329\n",
      "\n",
      "Training set accuracy: 0.7913322632423756\n",
      "Test set accuracy: 0.7052238805970149\n",
      "\n",
      "Training set accuracy: 0.7881219903691814\n",
      "Test set accuracy: 0.7014925373134329\n",
      "\n",
      "Training set accuracy: 0.7961476725521669\n",
      "Test set accuracy: 0.7014925373134329\n",
      "\n",
      "Training set accuracy: 0.7913322632423756\n",
      "Test set accuracy: 0.7014925373134329\n",
      "\n",
      "Training set accuracy: 0.7897271268057785\n",
      "Test set accuracy: 0.7052238805970149\n"
     ]
    }
   ],
   "source": [
    "X_train, X_test, y_train, y_test = train_test_split(X, y, test_size=0.3, random_state=42)\n",
    "knn = KNeighborsClassifier()\n",
    "\n",
    "knn.fit(X_train, y_train)\n",
    "\n",
    "predictions = knn.predict(X_test)\n",
    "\n",
    "train_accuracy = knn.score(X_train, y_train)\n",
    "test_accuracy = knn.score(X_test, y_test)\n",
    "print(f\"Training set accuracy: {train_accuracy}\")\n",
    "print(f\"Test set accuracy: {test_accuracy}\")\n",
    "\n",
    "probabilities = knn.predict_proba(X_test)\n",
    "\n",
    "for p_value in [1, 2, 3, 4, 5]:\n",
    "    knn = KNeighborsClassifier(p=p_value)\n",
    "    knn.fit(X_train, y_train)\n",
    "\n",
    "    train_accuracy = knn.score(X_train, y_train)\n",
    "    test_accuracy = knn.score(X_test, y_test)\n",
    "    print(f\"\\nTraining set accuracy: {train_accuracy}\")\n",
    "    print(f\"Test set accuracy: {test_accuracy}\")"
   ]
  },
  {
   "cell_type": "code",
   "execution_count": 127,
   "id": "c7ee06a8",
   "metadata": {},
   "outputs": [
    {
     "name": "stdout",
     "output_type": "stream",
     "text": [
      "Epoch 1/20\n",
      "23/23 [==============================] - 1s 1ms/step - loss: 0.5878 - accuracy: 0.7416\n",
      "Epoch 2/20\n",
      "23/23 [==============================] - 0s 2ms/step - loss: 0.4760 - accuracy: 0.7851\n",
      "Epoch 3/20\n",
      "23/23 [==============================] - 0s 2ms/step - loss: 0.4404 - accuracy: 0.8104\n",
      "Epoch 4/20\n",
      "23/23 [==============================] - 0s 2ms/step - loss: 0.4233 - accuracy: 0.8104\n",
      "Epoch 5/20\n",
      "23/23 [==============================] - 0s 2ms/step - loss: 0.4096 - accuracy: 0.8258\n",
      "Epoch 6/20\n",
      "23/23 [==============================] - 0s 2ms/step - loss: 0.4070 - accuracy: 0.8230\n",
      "Epoch 7/20\n",
      "23/23 [==============================] - 0s 2ms/step - loss: 0.3963 - accuracy: 0.8272\n",
      "Epoch 8/20\n",
      "23/23 [==============================] - 0s 2ms/step - loss: 0.3897 - accuracy: 0.8427\n",
      "Epoch 9/20\n",
      "23/23 [==============================] - 0s 2ms/step - loss: 0.3869 - accuracy: 0.8343\n",
      "Epoch 10/20\n",
      "23/23 [==============================] - 0s 2ms/step - loss: 0.3827 - accuracy: 0.8399\n",
      "Epoch 11/20\n",
      "23/23 [==============================] - 0s 2ms/step - loss: 0.3796 - accuracy: 0.8371\n",
      "Epoch 12/20\n",
      "23/23 [==============================] - 0s 2ms/step - loss: 0.3791 - accuracy: 0.8371\n",
      "Epoch 13/20\n",
      "23/23 [==============================] - 0s 2ms/step - loss: 0.3721 - accuracy: 0.8441\n",
      "Epoch 14/20\n",
      "23/23 [==============================] - 0s 2ms/step - loss: 0.3683 - accuracy: 0.8525\n",
      "Epoch 15/20\n",
      "23/23 [==============================] - 0s 2ms/step - loss: 0.3632 - accuracy: 0.8469\n",
      "Epoch 16/20\n",
      "23/23 [==============================] - 0s 2ms/step - loss: 0.3626 - accuracy: 0.8567\n",
      "Epoch 17/20\n",
      "23/23 [==============================] - 0s 2ms/step - loss: 0.3610 - accuracy: 0.8469\n",
      "Epoch 18/20\n",
      "23/23 [==============================] - 0s 2ms/step - loss: 0.3581 - accuracy: 0.8497\n",
      "Epoch 19/20\n",
      "23/23 [==============================] - 0s 2ms/step - loss: 0.3513 - accuracy: 0.8511\n",
      "Epoch 20/20\n",
      "23/23 [==============================] - 0s 2ms/step - loss: 0.3502 - accuracy: 0.8539\n",
      "6/6 [==============================] - 0s 2ms/step - loss: 0.4376 - accuracy: 0.8212\n",
      "Test accuracy: 0.8212290406227112\n"
     ]
    }
   ],
   "source": [
    "X_train, X_test, y_train, y_test = train_test_split(X, y, test_size=0.2, random_state=42)\n",
    "\n",
    "scaler = StandardScaler()\n",
    "X_train_scaled = scaler.fit_transform(X_train)\n",
    "X_test_scaled = scaler.transform(X_test)\n",
    "\n",
    "num_classes = 1\n",
    "\n",
    "model = Sequential([\n",
    "    Dense(128, activation='relu', input_shape=(X_train.shape[1],)),\n",
    "    Dense(64, activation='relu'),\n",
    "    Dense(num_classes, activation='sigmoid')  # Assuming a binary classification task\n",
    "])\n",
    "\n",
    "\n",
    "model.compile(optimizer='adam', loss='binary_crossentropy', metrics=['accuracy'])\n",
    "model.fit(X_train_scaled, y_train, epochs=20)\n",
    "\n",
    "test_loss, test_acc = model.evaluate(X_test_scaled, y_test)\n",
    "print(f'Test accuracy: {test_acc}')"
   ]
  },
  {
   "cell_type": "code",
   "execution_count": 130,
   "id": "d14bf3f2",
   "metadata": {},
   "outputs": [
    {
     "name": "stdout",
     "output_type": "stream",
     "text": [
      "14/14 [==============================] - 0s 925us/step\n",
      "(418, 1)\n"
     ]
    }
   ],
   "source": [
    "df = pd.read_csv('test.csv')\n",
    "label_encoder = LabelEncoder()\n",
    "\n",
    "columns_to_label_encode = ['Sex', 'Cabin', 'Embarked', 'Ticket', 'Name'] \n",
    "\n",
    "for column in columns_to_label_encode:\n",
    "    if column in df.columns:\n",
    "        df[column] = label_encoder.fit_transform(df[column])\n",
    "\n",
    "average_age = df['Age'].mean()\n",
    "df['Age'] = df['Age'].fillna(average_age)\n",
    "average_fare = df['Fare'].mean()\n",
    "df['Fare'] = df['Fare'].fillna(average_fare)\n",
    "\n",
    "X = df.drop(['PassengerId', 'Name'], axis=1)\n",
    "X_test_scaled = scaler.transform(X)\n",
    "\n",
    "\n",
    "predictions = (model.predict(X_test_scaled) > 0.5).astype(int)\n",
    "print(predictions.shape)\n",
    "result_df = pd.DataFrame({'PassengerId': df['PassengerId'], 'Survived': predictions.flatten()})\n",
    "result_df.to_csv('result.csv', index=False)"
   ]
  }
 ],
 "metadata": {
  "kernelspec": {
   "display_name": "Python 3 (ipykernel)",
   "language": "python",
   "name": "python3"
  },
  "language_info": {
   "codemirror_mode": {
    "name": "ipython",
    "version": 3
   },
   "file_extension": ".py",
   "mimetype": "text/x-python",
   "name": "python",
   "nbconvert_exporter": "python",
   "pygments_lexer": "ipython3",
   "version": "3.9.7"
  }
 },
 "nbformat": 4,
 "nbformat_minor": 5
}
